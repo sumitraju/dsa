{
 "cells": [
  {
   "cell_type": "code",
   "execution_count": 2,
   "metadata": {},
   "outputs": [
    {
     "name": "stdout",
     "output_type": "stream",
     "text": [
      "Calling sum([2, 7, 9])\n",
      "Calling sum([7, 9])\n",
      "Calling sum([9])\n",
      "Calling sum([])\n",
      "Call to sum([9]) returning 9 + 0\n",
      "Call to sum([7, 9]) returning 7 + 9\n",
      "Call to sum([2, 7, 9]) returning 2 + 16\n",
      "Call to sum([1, 2, 7, 9]) returning 1 + 18\n",
      "19\n"
     ]
    }
   ],
   "source": [
    "def sum(numbers):\n",
    "    if not numbers:\n",
    "        return 0\n",
    "    print (\"Calling sum(%s)\" % numbers[1:])\n",
    "    remaining_sum = sum(numbers[1:])\n",
    "    print(\"Call to sum(%s) returning %d + %d\" % (numbers,numbers[0], remaining_sum))\n",
    "    return numbers[0] + remaining_sum\n",
    "\n",
    "print(sum([1,2,7,9]))"
   ]
  }
 ],
 "metadata": {
  "kernelspec": {
   "display_name": "Python 3",
   "language": "python",
   "name": "python3"
  },
  "language_info": {
   "codemirror_mode": {
    "name": "ipython",
    "version": 3
   },
   "file_extension": ".py",
   "mimetype": "text/x-python",
   "name": "python",
   "nbconvert_exporter": "python",
   "pygments_lexer": "ipython3",
   "version": "3.9.0"
  },
  "orig_nbformat": 4
 },
 "nbformat": 4,
 "nbformat_minor": 2
}
