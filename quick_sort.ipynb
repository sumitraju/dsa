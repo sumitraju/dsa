{
 "cells": [
  {
   "cell_type": "code",
   "execution_count": 6,
   "metadata": {},
   "outputs": [],
   "source": [
    "numbers = [5,8,2,0,1,66,21,44,67,3,99,86]\n",
    "\n",
    "def quicksort(values):\n",
    "    if len(values) <=1:\n",
    "        return values\n",
    "    \n",
    "    less_than_pivot = []\n",
    "    greater_than_pivot = []\n",
    "    pivot = values[0]\n",
    "\n",
    "    for value in values[1:]:\n",
    "        if value <= pivot:\n",
    "            less_than_pivot.append(value)\n",
    "        else:\n",
    "            greater_than_pivot.append(value)\n",
    "    #print(\"%15s %1s %15s\" % (less_than_pivot, pivot, greater_than_pivot))\n",
    "    return quicksort(less_than_pivot) + [pivot] + quicksort(greater_than_pivot)"
   ]
  },
  {
   "cell_type": "code",
   "execution_count": 7,
   "metadata": {},
   "outputs": [
    {
     "name": "stdout",
     "output_type": "stream",
     "text": [
      "[5, 8, 2, 0, 1, 66, 21, 44, 67, 3, 99, 86]\n"
     ]
    },
    {
     "data": {
      "text/plain": [
       "[0, 1, 2, 3, 5, 8, 21, 44, 66, 67, 86, 99]"
      ]
     },
     "execution_count": 7,
     "metadata": {},
     "output_type": "execute_result"
    }
   ],
   "source": [
    "print(numbers)\n",
    "quicksort(numbers)"
   ]
  },
  {
   "cell_type": "code",
   "execution_count": 8,
   "metadata": {},
   "outputs": [
    {
     "data": {
      "text/plain": [
       "['Aaron Agustine',\n",
       " 'Adrianne Hercules',\n",
       " 'Agustina Kobel',\n",
       " 'Alina Reichel',\n",
       " 'Amiee Elwer',\n",
       " 'Andrew Mcgibney',\n",
       " 'Annette Ayudan',\n",
       " 'Ardelia Koffler',\n",
       " 'Candice Lucey',\n",
       " 'Carey Philps',\n",
       " 'Carina Bunge',\n",
       " 'Cathryn Hinkson',\n",
       " 'Charlyn Singley',\n",
       " 'Christena Botras',\n",
       " 'Cody Mandeville',\n",
       " 'Dallas Heinzmann',\n",
       " 'Darren Later',\n",
       " 'Deandra Pihl',\n",
       " 'Denny Friedeck',\n",
       " 'Desmond Steindorf',\n",
       " 'Donita Cheatham',\n",
       " 'Ed Aparo',\n",
       " 'Edwardo Khela',\n",
       " 'Eileen Stigers',\n",
       " 'Elden Dohrman',\n",
       " 'Elida Sleight',\n",
       " 'Elinore Benyard',\n",
       " 'Elvia Motamed',\n",
       " 'Emmett Whitesell',\n",
       " 'Enola Kohli',\n",
       " 'Errol Shinkle',\n",
       " 'Evelynn Delucia',\n",
       " 'Fawn Englar',\n",
       " 'Francene Klebe',\n",
       " 'Francina Vigneault',\n",
       " 'Gene Lesnick',\n",
       " 'Gina Degon',\n",
       " 'Ginger Schlossman',\n",
       " 'Glennis Gines',\n",
       " 'Guy Lashbaugh',\n",
       " 'Harley Mussell',\n",
       " 'Hope Vacarro',\n",
       " 'Iola Bordenet',\n",
       " 'Ira Hooghkirk',\n",
       " 'Irvin Cyree',\n",
       " 'Jamal Gillians',\n",
       " 'Jamey Kirchgesler',\n",
       " 'Jimmie Lessin',\n",
       " 'Johnnie Stivanson',\n",
       " 'Judith Zwahlen',\n",
       " 'Karen Lauterborn',\n",
       " 'Keiko Dedeke',\n",
       " 'Kira Moala',\n",
       " 'Kit Karratti',\n",
       " 'Lacresha Kempker',\n",
       " 'Lacresha Peet',\n",
       " 'Latrisha Haen',\n",
       " 'Lea Pelzel',\n",
       " 'Leann Muccia',\n",
       " 'Lekisha Tawney',\n",
       " 'Leonia Goretti',\n",
       " 'Lettie Jirjis',\n",
       " 'Lorelei Morrical',\n",
       " 'Lucie Hansman',\n",
       " 'Luz Kliment',\n",
       " 'Magda Growney',\n",
       " 'Malena Applebaum',\n",
       " 'Margart Scholz',\n",
       " 'Marianela Mcmullen',\n",
       " 'Mariann Melena',\n",
       " 'Maryrose Badura',\n",
       " 'Mavis Bhardwaj',\n",
       " 'Melony Engwer',\n",
       " 'Mike Blanchet',\n",
       " 'Myles Deanne',\n",
       " 'Nancie Rubalcaba',\n",
       " 'Narcisa Shanley',\n",
       " 'Norma Tingey',\n",
       " 'Rachael Ojima',\n",
       " 'Ray Spratling',\n",
       " 'Renee Brendeland',\n",
       " 'Rosalva Dosreis',\n",
       " 'Rosamond Shawe',\n",
       " 'Sade Streitnatter',\n",
       " 'Sang Bouy',\n",
       " 'Sang Snellgrove',\n",
       " 'Sarah Growden',\n",
       " 'Scottie Levenstein',\n",
       " 'Shaquana Sones',\n",
       " 'Sheri Wedding',\n",
       " 'Sibyl Froeschle',\n",
       " 'Sina Sauby',\n",
       " 'Steven Deras',\n",
       " 'Suellen Luaces',\n",
       " 'Suellen Tohonnie',\n",
       " 'Sung Filipi',\n",
       " 'Tammi Todman',\n",
       " 'Tawana Srivastava',\n",
       " 'Teofila Stample',\n",
       " 'Zulma Tishler']"
      ]
     },
     "execution_count": 8,
     "metadata": {},
     "output_type": "execute_result"
    }
   ],
   "source": [
    "search_names = [\"Francina Vigneault\", \"Lucie Hansman\", \"Nancie Rubalcaba\", \"Elida Sleight\", \"Guy Lashbaugh\", \"Ginger Schlossman\", \"Suellen Luaces\", \"Jamey Kirchgesler\", \"Amiee Elwer\", \"Lacresha Peet\", \"Leonia Goretti\", \"Carina Bunge\", \"Renee Brendeland\", \"Andrew Mcgibney\", \"Gina Degon\", \"Deandra Pihl\", \"Desmond Steindorf\", \"Magda Growney\", \"Tawana Srivastava\", \"Tammi Todman\", \"Harley Mussell\", \"Iola Bordenet\", \"Edwardo Khela\", \"Myles Deanne\", \"Elden Dohrman\", \"Ira Hooghkirk\", \"Eileen Stigers\", \"Mariann Melena\", \"Maryrose Badura\", \"Ardelia Koffler\", \"Lacresha Kempker\", \"Charlyn Singley\", \"Lekisha Tawney\", \"Christena Botras\", \"Mike Blanchet\", \"Cathryn Hinkson\", \"Errol Shinkle\", \"Mavis Bhardwaj\", \"Sung Filipi\", \"Keiko Dedeke\", \"Lorelei Morrical\", \"Jimmie Lessin\", \"Adrianne Hercules\", \"Latrisha Haen\", \"Denny Friedeck\", \"Emmett Whitesell\", \"Sina Sauby\", \"Melony Engwer\", \"Alina Reichel\", \"Rosamond Shawe\", \"Elinore Benyard\", \"Sang Bouy\", \"Ed Aparo\", \"Sheri Wedding\", \"Sang Snellgrove\", \"Shaquana Sones\", \"Elvia Motamed\", \"Candice Lucey\", \"Sibyl Froeschle\", \"Ray Spratling\", \"Cody Mandeville\", \"Donita Cheatham\", \"Darren Later\", \"Johnnie Stivanson\", \"Enola Kohli\", \"Leann Muccia\", \"Carey Philps\", \"Suellen Tohonnie\", \"Evelynn Delucia\", \"Luz Kliment\", \"Lettie Jirjis\", \"Francene Klebe\", \"Margart Scholz\", \"Sarah Growden\", \"Glennis Gines\", \"Rachael Ojima\", \"Teofila Stample\", \"Narcisa Shanley\", \"Gene Lesnick\", \"Malena Applebaum\", \"Norma Tingey\", \"Marianela Mcmullen\", \"Rosalva Dosreis\", \"Dallas Heinzmann\", \"Sade Streitnatter\", \"Lea Pelzel\", \"Judith Zwahlen\", \"Hope Vacarro\", \"Annette Ayudan\", \"Irvin Cyree\", \"Scottie Levenstein\", \"Agustina Kobel\", \"Kira Moala\", \"Fawn Englar\", \"Jamal Gillians\", \"Karen Lauterborn\", \"Kit Karratti\", \"Steven Deras\", \"Aaron Agustine\", \"Zulma Tishler\"]\n",
    "quicksort(search_names)"
   ]
  }
 ],
 "metadata": {
  "kernelspec": {
   "display_name": "Python 3",
   "language": "python",
   "name": "python3"
  },
  "language_info": {
   "codemirror_mode": {
    "name": "ipython",
    "version": 3
   },
   "file_extension": ".py",
   "mimetype": "text/x-python",
   "name": "python",
   "nbconvert_exporter": "python",
   "pygments_lexer": "ipython3",
   "version": "3.9.0"
  },
  "orig_nbformat": 4
 },
 "nbformat": 4,
 "nbformat_minor": 2
}
