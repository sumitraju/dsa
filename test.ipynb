{
 "cells": [
  {
   "cell_type": "code",
   "execution_count": 20,
   "metadata": {},
   "outputs": [],
   "source": [
    "nums = [0,0,1,1,1,2,2,3,3,4]\n",
    "numCount = 0\n",
    "def removeDuplicates(nums):\n",
    "    global numCount\n",
    "    if(numCount >= len(nums)-1):\n",
    "        numCount = 0\n",
    "        return len(nums)\n",
    "        \n",
    "    \n",
    "    if(nums[numCount] == nums[numCount+1]):\n",
    "        nums.pop(numCount)\n",
    "    else:\n",
    "        numCount+=1\n",
    "    \n",
    "    return removeDuplicates(nums)\n",
    "\n"
   ]
  },
  {
   "cell_type": "code",
   "execution_count": 14,
   "metadata": {},
   "outputs": [
    {
     "name": "stdout",
     "output_type": "stream",
     "text": [
      "5\n"
     ]
    }
   ],
   "source": [
    "print(removeDuplicates(nums))"
   ]
  },
  {
   "cell_type": "code",
   "execution_count": 13,
   "metadata": {},
   "outputs": [],
   "source": [
    "nums = [0,0,1,1,1,2,2,3,3,4]\n",
    "\n",
    "def removeDuplicates(nums):\n",
    "    \n",
    "    if(len(nums) == 0):\n",
    "        return 0\n",
    "    numCount = 0\n",
    "    for i in range(0,len(nums)-1,1):\n",
    "        #print(\"%s %s\" % (nums[i],nums[i+1]))\n",
    "        if(nums[i]!=nums[i+1]):\n",
    "            \n",
    "            numCount +=1\n",
    "\n",
    "    return numCount+1"
   ]
  },
  {
   "cell_type": "code",
   "execution_count": 32,
   "metadata": {},
   "outputs": [],
   "source": [
    "\n",
    "expectedNums = [0,1,2,3,4]\n",
    "\n",
    "k = removeDuplicates(nums)\n",
    "\n",
    "assert k == len(expectedNums)\n",
    "\n",
    "for i in range(0,k,1):\n",
    "    #print(\"%s %s\" % (nums[i],expectedNums[i]))\n",
    "    assert nums[i] == expectedNums[i]"
   ]
  }
 ],
 "metadata": {
  "kernelspec": {
   "display_name": "Python 3",
   "language": "python",
   "name": "python3"
  },
  "language_info": {
   "codemirror_mode": {
    "name": "ipython",
    "version": 3
   },
   "file_extension": ".py",
   "mimetype": "text/x-python",
   "name": "python",
   "nbconvert_exporter": "python",
   "pygments_lexer": "ipython3",
   "version": "3.9.0"
  },
  "orig_nbformat": 4
 },
 "nbformat": 4,
 "nbformat_minor": 2
}
