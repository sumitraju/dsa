{
 "cells": [
  {
   "cell_type": "code",
   "execution_count": 1,
   "metadata": {},
   "outputs": [],
   "source": [
    "def linear_search(list,target):\n",
    "    for i in range(0,len(list)):\n",
    "        if list[i]==target:\n",
    "            return i\n",
    "    return None"
   ]
  },
  {
   "cell_type": "code",
   "execution_count": 2,
   "metadata": {},
   "outputs": [],
   "source": [
    "def verify(index):\n",
    "    if index is not None:\n",
    "        print(\"Target found at index: \",index)\n",
    "    else:\n",
    "        print(\"Target not found in list\")"
   ]
  },
  {
   "cell_type": "code",
   "execution_count": 4,
   "metadata": {},
   "outputs": [
    {
     "name": "stdout",
     "output_type": "stream",
     "text": [
      "Target found at index:  5\n"
     ]
    }
   ],
   "source": [
    "numbers = [1,2,3,4,5,6,7,8,9,10]\n",
    "result = linear_search(numbers,6)\n",
    "verify(result)"
   ]
  },
  {
   "attachments": {},
   "cell_type": "markdown",
   "metadata": {},
   "source": [
    "### Another way"
   ]
  },
  {
   "cell_type": "code",
   "execution_count": null,
   "metadata": {},
   "outputs": [],
   "source": [
    "#search_names = [\"Francina Vigneault\", \"Lucie Hansman\", \"Nancie Rubalcaba\", \"Elida Sleight\", \"Guy Lashbaugh\", \"Ginger Schlossman\", \"Suellen Luaces\", \"Jamey Kirchgesler\", \"Amiee Elwer\", \"Lacresha Peet\", \"Leonia Goretti\", \"Carina Bunge\", \"Renee Brendeland\", \"Andrew Mcgibney\", \"Gina Degon\", \"Deandra Pihl\", \"Desmond Steindorf\", \"Magda Growney\", \"Tawana Srivastava\", \"Tammi Todman\", \"Harley Mussell\", \"Iola Bordenet\", \"Edwardo Khela\", \"Myles Deanne\", \"Elden Dohrman\", \"Ira Hooghkirk\", \"Eileen Stigers\", \"Mariann Melena\", \"Maryrose Badura\", \"Ardelia Koffler\", \"Lacresha Kempker\", \"Charlyn Singley\", \"Lekisha Tawney\", \"Christena Botras\", \"Mike Blanchet\", \"Cathryn Hinkson\", \"Errol Shinkle\", \"Mavis Bhardwaj\", \"Sung Filipi\", \"Keiko Dedeke\", \"Lorelei Morrical\", \"Jimmie Lessin\", \"Adrianne Hercules\", \"Latrisha Haen\", \"Denny Friedeck\", \"Emmett Whitesell\", \"Sina Sauby\", \"Melony Engwer\", \"Alina Reichel\", \"Rosamond Shawe\", \"Elinore Benyard\", \"Sang Bouy\", \"Ed Aparo\", \"Sheri Wedding\", \"Sang Snellgrove\", \"Shaquana Sones\", \"Elvia Motamed\", \"Candice Lucey\", \"Sibyl Froeschle\", \"Ray Spratling\", \"Cody Mandeville\", \"Donita Cheatham\", \"Darren Later\", \"Johnnie Stivanson\", \"Enola Kohli\", \"Leann Muccia\", \"Carey Philps\", \"Suellen Tohonnie\", \"Evelynn Delucia\", \"Luz Kliment\", \"Lettie Jirjis\", \"Francene Klebe\", \"Margart Scholz\", \"Sarah Growden\", \"Glennis Gines\", \"Rachael Ojima\", \"Teofila Stample\", \"Narcisa Shanley\", \"Gene Lesnick\", \"Malena Applebaum\", \"Norma Tingey\", \"Marianela Mcmullen\", \"Rosalva Dosreis\", \"Dallas Heinzmann\", \"Sade Streitnatter\", \"Lea Pelzel\", \"Judith Zwahlen\", \"Hope Vacarro\", \"Annette Ayudan\", \"Irvin Cyree\", \"Scottie Levenstein\", \"Agustina Kobel\", \"Kira Moala\", \"Fawn Englar\", \"Jamal Gillians\", \"Karen Lauterborn\", \"Kit Karratti\", \"Steven Deras\", \"Aaron Agustine\", \"Zulma Tishler\"]"
   ]
  }
 ],
 "metadata": {
  "kernelspec": {
   "display_name": "Python 3",
   "language": "python",
   "name": "python3"
  },
  "language_info": {
   "codemirror_mode": {
    "name": "ipython",
    "version": 3
   },
   "file_extension": ".py",
   "mimetype": "text/x-python",
   "name": "python",
   "nbconvert_exporter": "python",
   "pygments_lexer": "ipython3",
   "version": "3.9.0"
  },
  "orig_nbformat": 4
 },
 "nbformat": 4,
 "nbformat_minor": 2
}
