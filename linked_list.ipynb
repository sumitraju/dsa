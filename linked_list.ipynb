{
 "cells": [
  {
   "cell_type": "code",
   "execution_count": 1,
   "metadata": {},
   "outputs": [],
   "source": [
    "class Node:\n",
    "    \"\"\"\n",
    "    An object for storing a single node of a linked list.\n",
    "    Models to attributes - data and the link to the next node in the list\n",
    "    \"\"\"\n",
    "    data = None\n",
    "    next_node = None\n",
    "\n",
    "    def __init__(self,data):\n",
    "        self.data = data\n",
    "    \n",
    "    def __repr__(self):\n",
    "        return \"<Node data: %s>\" % self.data"
   ]
  },
  {
   "cell_type": "code",
   "execution_count": 2,
   "metadata": {},
   "outputs": [
    {
     "data": {
      "text/plain": [
       "<Node data: 20>"
      ]
     },
     "execution_count": 2,
     "metadata": {},
     "output_type": "execute_result"
    }
   ],
   "source": [
    "N1 = Node(10)\n",
    "N1\n",
    "N2 = Node(20)\n",
    "N1.next_node = N2\n",
    "N1.next_node"
   ]
  },
  {
   "cell_type": "code",
   "execution_count": 3,
   "metadata": {},
   "outputs": [],
   "source": [
    "class LinkedList:\n",
    "    \"\"\"\n",
    "    Singly LinkedList\n",
    "    \"\"\"\n",
    "    def __init__(self):\n",
    "        self.head = None\n",
    "\n",
    "    def is_empty(self):\n",
    "        return self.head == None\n",
    "    \n",
    "    def size(self):\n",
    "        \"\"\"\n",
    "        Returns the number of nodes in the lists takes O(n) time\n",
    "        \"\"\"\n",
    "        current = self.head\n",
    "        count = 0\n",
    "\n",
    "        while current:\n",
    "            count += 1\n",
    "            current = current.next_node\n",
    "\n",
    "        return count\n",
    "    \n",
    "    def add(self,data):\n",
    "        \"\"\"Adds a new data at the head of the list\n",
    "        Takes O(1) time\n",
    "        \"\"\"\n",
    "        new_node = Node(data)\n",
    "        new_node.next_node = self.head\n",
    "        self.head = new_node\n",
    "    \n",
    "    def __repr__(self):\n",
    "        nodes = []\n",
    "        current = self.head\n",
    "\n",
    "        while current:\n",
    "            if current is self.head:\n",
    "                nodes.append(\"[Head: %s]\" % current.data)\n",
    "            elif current.next_node is None:\n",
    "                nodes.append(\"[Tail: %s]\" % current.data)\n",
    "            else:\n",
    "                nodes.append(\"[%s]\" % current.data)\n",
    "\n",
    "            current = current.next_node\n",
    "        \n",
    "        return '->'.join(nodes)\n",
    "    \n",
    "    def search(self,key):\n",
    "        current = self.head\n",
    "\n",
    "        while current:\n",
    "            if current.data == key:\n",
    "                return current\n",
    "            else:\n",
    "                current = current.next_node\n",
    "\n",
    "        return None\n",
    "    \n",
    "    def insert(self, data, index):\n",
    "        \"\"\"Interts a new node containting data at index position\n",
    "        Insertion takes O(1) time but finding the node takes 0(n) time\n",
    "        Takes overall 0(n) time.\n",
    "        \"\"\"\n",
    "\n",
    "        if index == 0:\n",
    "            self.add(data)\n",
    "        \n",
    "        if index >0:\n",
    "            new_node = Node(data)\n",
    "\n",
    "            position = index\n",
    "            current = self.head\n",
    "\n",
    "            while position > 1:\n",
    "                current = current.next_node\n",
    "                position -= 1\n",
    "            \n",
    "            prev_node = current\n",
    "            next_node = current.next_node\n",
    "\n",
    "            prev_node.next_node = new_node\n",
    "            new_node.next_node = next_node\n",
    "    \n",
    "    def remove(self,key):\n",
    "        \"\"\"Removed notes containing data that matches the key\n",
    "        Returns the node or none if key doesnt exist\n",
    "        Takwes 0(n) time\"\"\"\n",
    "        current = self.head\n",
    "        previous = None\n",
    "        found = False\n",
    "\n",
    "        while current and not found:\n",
    "            if current.data == key and current is self.head:\n",
    "                found = True\n",
    "                self.head = current.next_node\n",
    "                #self.__count -= 1\n",
    "                return current\n",
    "            elif current.data == key:\n",
    "                found = True\n",
    "                previous.next_node = current.next_node\n",
    "                #self.__count -= 1\n",
    "                return current\n",
    "            else:\n",
    "                previous = current\n",
    "                current = current.next_node\n",
    "        \n",
    "        return None"
   ]
  },
  {
   "cell_type": "code",
   "execution_count": 4,
   "metadata": {},
   "outputs": [
    {
     "data": {
      "text/plain": [
       "1"
      ]
     },
     "execution_count": 4,
     "metadata": {},
     "output_type": "execute_result"
    }
   ],
   "source": [
    "l = LinkedList()\n",
    "N1 = Node(10)\n",
    "l.head = N1\n",
    "l.size()"
   ]
  },
  {
   "cell_type": "code",
   "execution_count": 5,
   "metadata": {},
   "outputs": [
    {
     "data": {
      "text/plain": [
       "1"
      ]
     },
     "execution_count": 5,
     "metadata": {},
     "output_type": "execute_result"
    }
   ],
   "source": [
    "l = LinkedList()\n",
    "l.add(1)\n",
    "l.size()"
   ]
  },
  {
   "cell_type": "code",
   "execution_count": 6,
   "metadata": {},
   "outputs": [
    {
     "data": {
      "text/plain": [
       "4"
      ]
     },
     "execution_count": 6,
     "metadata": {},
     "output_type": "execute_result"
    }
   ],
   "source": [
    "l.add(2)\n",
    "l.add(3)\n",
    "l.add(4)\n",
    "l.size()"
   ]
  },
  {
   "cell_type": "code",
   "execution_count": 11,
   "metadata": {},
   "outputs": [
    {
     "data": {
      "text/plain": [
       "[Head: 4]->[3]->[2]->[Tail: 1]"
      ]
     },
     "execution_count": 11,
     "metadata": {},
     "output_type": "execute_result"
    }
   ],
   "source": [
    "l"
   ]
  },
  {
   "cell_type": "code",
   "execution_count": 8,
   "metadata": {},
   "outputs": [],
   "source": [
    "l.search(5)"
   ]
  },
  {
   "cell_type": "code",
   "execution_count": 9,
   "metadata": {},
   "outputs": [],
   "source": [
    "l.insert(5,2)"
   ]
  },
  {
   "cell_type": "code",
   "execution_count": 10,
   "metadata": {},
   "outputs": [
    {
     "data": {
      "text/plain": [
       "[Head: 4]->[3]->[5]->[2]->[Tail: 1]"
      ]
     },
     "execution_count": 10,
     "metadata": {},
     "output_type": "execute_result"
    }
   ],
   "source": [
    "l"
   ]
  },
  {
   "cell_type": "code",
   "execution_count": 12,
   "metadata": {},
   "outputs": [
    {
     "ename": "AttributeError",
     "evalue": "'LinkedList' object has no attribute '_LinkedList__count'",
     "output_type": "error",
     "traceback": [
      "\u001b[1;31m---------------------------------------------------------------------------\u001b[0m",
      "\u001b[1;31mAttributeError\u001b[0m                            Traceback (most recent call last)",
      "Cell \u001b[1;32mIn[12], line 1\u001b[0m\n\u001b[1;32m----> 1\u001b[0m l\u001b[39m.\u001b[39;49mremove(\u001b[39m1\u001b[39;49m)\n",
      "Cell \u001b[1;32mIn[3], line 101\u001b[0m, in \u001b[0;36mLinkedList.remove\u001b[1;34m(self, key)\u001b[0m\n\u001b[0;32m     99\u001b[0m     found \u001b[39m=\u001b[39m \u001b[39mTrue\u001b[39;00m\n\u001b[0;32m    100\u001b[0m     previous\u001b[39m.\u001b[39mnext_node \u001b[39m=\u001b[39m current\u001b[39m.\u001b[39mnext_node\n\u001b[1;32m--> 101\u001b[0m     \u001b[39mself\u001b[39m\u001b[39m.\u001b[39m__count \u001b[39m-\u001b[39m\u001b[39m=\u001b[39m \u001b[39m1\u001b[39m\n\u001b[0;32m    102\u001b[0m     \u001b[39mreturn\u001b[39;00m current\n\u001b[0;32m    103\u001b[0m \u001b[39melse\u001b[39;00m:\n",
      "\u001b[1;31mAttributeError\u001b[0m: 'LinkedList' object has no attribute '_LinkedList__count'"
     ]
    }
   ],
   "source": [
    "l.remove(1)"
   ]
  }
 ],
 "metadata": {
  "kernelspec": {
   "display_name": "Python 3",
   "language": "python",
   "name": "python3"
  },
  "language_info": {
   "codemirror_mode": {
    "name": "ipython",
    "version": 3
   },
   "file_extension": ".py",
   "mimetype": "text/x-python",
   "name": "python",
   "nbconvert_exporter": "python",
   "pygments_lexer": "ipython3",
   "version": "3.9.0"
  },
  "orig_nbformat": 4
 },
 "nbformat": 4,
 "nbformat_minor": 2
}
