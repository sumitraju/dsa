{
 "cells": [
  {
   "cell_type": "code",
   "execution_count": 3,
   "metadata": {},
   "outputs": [],
   "source": [
    "def merge_sort(list):\n",
    "    \"\"\"\n",
    "    Sorts a list  in a ascendnig order\n",
    "    Returns a new sorted list\n",
    "    Divide: Find the midpoint of the list and divide into sublists\n",
    "    conquer: Recursively sort the sublists created in previous step\n",
    "    combine: Merge the sorted sublists created in previous step\n",
    "    \"\"\"\n",
    "    \n",
    "    if(len(list) <=1):\n",
    "        return list\n",
    "    \n",
    "    left_half, right_half = split(list)\n",
    "    left = merge_sort(left_half)\n",
    "    right = merge_sort(right_half)\n",
    "    #print(\"%-25s %-25s\" % (left,right))\n",
    "    return merge(left,right)\n",
    "\n",
    "def split(list):\n",
    "    \"\"\"\n",
    "    Divide the unsorted list at the midpoint into sublists\n",
    "    Returns two sublists - left and right\n",
    "    \"\"\"\n",
    "\n",
    "    mid = len(list)//2\n",
    "    left = list[:mid]\n",
    "    right = list[mid:]\n",
    "\n",
    "    return left, right\n",
    "\n",
    "def merge(left,right):\n",
    "\n",
    "    \"\"\"\n",
    "    Merges two lists, sorting them in the process\n",
    "    Returns a new merged list\n",
    "    \"\"\"\n",
    "    l=[]\n",
    "    i=0\n",
    "    j=0\n",
    "\n",
    "    while i< len(left) and j< len(right):\n",
    "        if left[i] < right[j]:\n",
    "            l.append(left[i])\n",
    "            i+=1\n",
    "        else:\n",
    "            l.append(right[j])\n",
    "            j+=1\n",
    "    \n",
    "    while i< len(left):\n",
    "        l.append(left[i])\n",
    "        i+=1\n",
    "    \n",
    "    while j< len(right):\n",
    "        l.append(right[j])\n",
    "        j+=1\n",
    "        \n",
    "    return l\n",
    "\n",
    "def verify_sorted(list):\n",
    "    n= len(list)\n",
    "\n",
    "    if n== 0 or n== 1:\n",
    "        return True\n",
    "    \n",
    "    return list[0] < list[1] and verify_sorted(list[1:])"
   ]
  },
  {
   "cell_type": "code",
   "execution_count": 17,
   "metadata": {},
   "outputs": [
    {
     "name": "stdout",
     "output_type": "stream",
     "text": [
      "[2, 2, 3, 3, 6, 9, 17, 20, 44, 53, 54, 55, 62, 76, 77, 93, 555]\n"
     ]
    },
    {
     "data": {
      "text/plain": [
       "False"
      ]
     },
     "execution_count": 17,
     "metadata": {},
     "output_type": "execute_result"
    }
   ],
   "source": [
    "alist = [54, 62,93,17,77,44,55,20,2,555,76,3,53,3,2,6,9]\n",
    "l = merge_sort(alist)\n",
    "\n",
    "print(l)\n",
    "verify_sorted(l)"
   ]
  },
  {
   "attachments": {},
   "cell_type": "markdown",
   "metadata": {},
   "source": [
    "### Anothoer way of doing it"
   ]
  },
  {
   "cell_type": "code",
   "execution_count": 27,
   "metadata": {},
   "outputs": [],
   "source": [
    "def merge_sort_1(values):\n",
    "    if len(values) <= 1:\n",
    "        return values\n",
    "    \n",
    "    middle_index = len(values)//2\n",
    "    left_values = merge_sort_1(values[:middle_index])\n",
    "    right_values = merge_sort_1 (values[middle_index:])\n",
    "\n",
    "    print(\"%15s %-15s\" % (left_values,right_values))\n",
    "    \n",
    "    sorted_values = []\n",
    "\n",
    "    left_index = 0\n",
    "    right_index = 0\n",
    "\n",
    "    while left_index < len(left_values) and right_index < len(right_values):\n",
    "        if left_values[left_index] < right_values[right_index]:\n",
    "            sorted_values.append(left_values[left_index])\n",
    "            left_index+=1\n",
    "        else:\n",
    "            sorted_values.append(right_values[right_index])\n",
    "            right_index += 1\n",
    "    \n",
    "    sorted_values += left_values[left_index:]\n",
    "    sorted_values += right_values[right_index:]\n",
    "\n",
    "    return sorted_values"
   ]
  },
  {
   "cell_type": "code",
   "execution_count": 28,
   "metadata": {},
   "outputs": [
    {
     "name": "stdout",
     "output_type": "stream",
     "text": [
      "[4, 6, 3, 2, 9, 7, 3, 5]\n",
      "            [4] [6]            \n",
      "            [3] [2]            \n",
      "         [4, 6] [2, 3]         \n",
      "            [9] [7]            \n",
      "            [3] [5]            \n",
      "         [7, 9] [3, 5]         \n",
      "   [2, 3, 4, 6] [3, 5, 7, 9]   \n",
      "[2, 3, 3, 4, 5, 6, 7, 9]\n"
     ]
    }
   ],
   "source": [
    "alist = [4,6,3,2,9,7,3,5]\n",
    "print(alist)\n",
    "l = merge_sort_1(alist)\n",
    "\n",
    "print(l)"
   ]
  }
 ],
 "metadata": {
  "kernelspec": {
   "display_name": "Python 3",
   "language": "python",
   "name": "python3"
  },
  "language_info": {
   "codemirror_mode": {
    "name": "ipython",
    "version": 3
   },
   "file_extension": ".py",
   "mimetype": "text/x-python",
   "name": "python",
   "nbconvert_exporter": "python",
   "pygments_lexer": "ipython3",
   "version": "3.9.0"
  },
  "orig_nbformat": 4
 },
 "nbformat": 4,
 "nbformat_minor": 2
}
