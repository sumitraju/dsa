{
 "cells": [
  {
   "cell_type": "code",
   "execution_count": 6,
   "metadata": {},
   "outputs": [],
   "source": [
    "def selection_sort(values):\n",
    "    sorted_list = []\n",
    "    print(\"%-25s %-25s\" % (values,sorted_list))\n",
    "    for i in range(0,len(values)):\n",
    "        index_to_move = index_of_min(values)\n",
    "        sorted_list.append(values.pop(index_to_move))\n",
    "        print(\"%-25s %-25s\" % (values,sorted_list))\n",
    "    return sorted_list\n",
    "\n",
    "def index_of_min(values):\n",
    "    min_index = 0\n",
    "    for i in range(1,len(values)):\n",
    "        if values[i] < values[min_index]:\n",
    "            min_index = i\n",
    "    return min_index\n"
   ]
  },
  {
   "cell_type": "code",
   "execution_count": 7,
   "metadata": {},
   "outputs": [
    {
     "name": "stdout",
     "output_type": "stream",
     "text": [
      "[4, 1, 66, 22, 90, 3, 55] []                       \n",
      "[4, 66, 22, 90, 3, 55]    [1]                      \n",
      "[4, 66, 22, 90, 55]       [1, 3]                   \n",
      "[66, 22, 90, 55]          [1, 3, 4]                \n",
      "[66, 90, 55]              [1, 3, 4, 22]            \n",
      "[66, 90]                  [1, 3, 4, 22, 55]        \n",
      "[90]                      [1, 3, 4, 22, 55, 66]    \n",
      "[]                        [1, 3, 4, 22, 55, 66, 90]\n"
     ]
    },
    {
     "data": {
      "text/plain": [
       "[1, 3, 4, 22, 55, 66, 90]"
      ]
     },
     "execution_count": 7,
     "metadata": {},
     "output_type": "execute_result"
    }
   ],
   "source": [
    "selection_sort([4,1,66,22,90,3,55])"
   ]
  }
 ],
 "metadata": {
  "kernelspec": {
   "display_name": "Python 3",
   "language": "python",
   "name": "python3"
  },
  "language_info": {
   "codemirror_mode": {
    "name": "ipython",
    "version": 3
   },
   "file_extension": ".py",
   "mimetype": "text/x-python",
   "name": "python",
   "nbconvert_exporter": "python",
   "pygments_lexer": "ipython3",
   "version": "3.9.0"
  },
  "orig_nbformat": 4
 },
 "nbformat": 4,
 "nbformat_minor": 2
}
