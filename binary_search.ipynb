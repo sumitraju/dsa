{
 "cells": [
  {
   "attachments": {},
   "cell_type": "markdown",
   "metadata": {},
   "source": [
    "Using While loop"
   ]
  },
  {
   "cell_type": "code",
   "execution_count": 18,
   "metadata": {},
   "outputs": [],
   "source": [
    "def binary_search(list,target):\n",
    "    first = 0\n",
    "    last = len(list)-1\n",
    "    \n",
    "    while first <= last:\n",
    "        midpoint = (first+last)//2\n",
    "        if list[midpoint] == target:\n",
    "            return midpoint\n",
    "        elif list[midpoint] < target:\n",
    "            first = midpoint + 1\n",
    "        else:\n",
    "            last = midpoint - 1\n",
    "    return None"
   ]
  },
  {
   "attachments": {},
   "cell_type": "markdown",
   "metadata": {},
   "source": [
    "Recursive Method"
   ]
  },
  {
   "cell_type": "code",
   "execution_count": 29,
   "metadata": {},
   "outputs": [],
   "source": [
    "def recursive_binary_list(list,target):\n",
    "    if len(list) == 0:\n",
    "        return False\n",
    "    else:\n",
    "        midpoint = (len(list))//2\n",
    "        if list[midpoint] == target:\n",
    "            return True\n",
    "        elif list[midpoint] < target:\n",
    "            return recursive_binary_list(list[midpoint + 1:],target)\n",
    "        else:\n",
    "            return recursive_binary_list(list[:midpoint],target)\n",
    "    return None"
   ]
  },
  {
   "cell_type": "code",
   "execution_count": 20,
   "metadata": {},
   "outputs": [],
   "source": [
    "def verify(index):\n",
    "    if index is not None:\n",
    "        print(\"Target found at index: \",index)\n",
    "    else:\n",
    "        print(\"Target not found in list\")"
   ]
  },
  {
   "cell_type": "code",
   "execution_count": 25,
   "metadata": {},
   "outputs": [
    {
     "name": "stdout",
     "output_type": "stream",
     "text": [
      "Target found at index:  9\n"
     ]
    }
   ],
   "source": [
    "#List should be sorted\n",
    "numbers = [1,2,3,4,5,6,7,8,9,10]\n",
    "result = binary_search(numbers,10)\n",
    "verify(result)"
   ]
  },
  {
   "cell_type": "code",
   "execution_count": 30,
   "metadata": {},
   "outputs": [
    {
     "name": "stdout",
     "output_type": "stream",
     "text": [
      "Target found at index:  True\n"
     ]
    }
   ],
   "source": [
    "result_rec = recursive_binary_list(numbers,10)\n",
    "verify(result_rec)"
   ]
  },
  {
   "attachments": {},
   "cell_type": "markdown",
   "metadata": {},
   "source": [
    "### Another example"
   ]
  },
  {
   "cell_type": "code",
   "execution_count": 2,
   "metadata": {},
   "outputs": [],
   "source": [
    "search_names = ['Aaron Agustine', 'Adrianne Hercules', 'Agustina Kobel', 'Alina Reichel', 'Amiee Elwer', 'Andrew Mcgibney', 'Annette Ayudan', 'Ardelia Koffler', 'Candice Lucey', 'Carey Philps', 'Carina Bunge', 'Cathryn Hinkson', 'Charlyn Singley', 'Christena Botras', 'Cody Mandeville', 'Dallas Heinzmann', 'Darren Later', 'Deandra Pihl', 'Denny Friedeck', 'Desmond Steindorf', 'Donita Cheatham', 'Ed Aparo', 'Edwardo Khela', 'Eileen Stigers', 'Elden Dohrman', 'Elida Sleight', 'Elinore Benyard', 'Elvia Motamed', 'Emmett Whitesell', 'Enola Kohli', 'Errol Shinkle', 'Evelynn Delucia', 'Fawn Englar', 'Francene Klebe', 'Francina Vigneault', 'Gene Lesnick', 'Gina Degon', 'Ginger Schlossman', 'Glennis Gines', 'Guy Lashbaugh', 'Harley Mussell', 'Hope Vacarro', 'Iola Bordenet', 'Ira Hooghkirk', 'Irvin Cyree', 'Jamal Gillians', 'Jamey Kirchgesler', 'Jimmie Lessin', 'Johnnie Stivanson', 'Judith Zwahlen', 'Karen Lauterborn', 'Keiko Dedeke', 'Kira Moala', 'Kit Karratti', 'Lacresha Kempker', 'Lacresha Peet', 'Latrisha Haen', 'Lea Pelzel', 'Leann Muccia', 'Lekisha Tawney', 'Leonia Goretti', 'Lettie Jirjis', 'Lorelei Morrical', 'Lucie Hansman', 'Luz Kliment', 'Magda Growney', 'Malena Applebaum', 'Margart Scholz', 'Marianela Mcmullen', 'Mariann Melena', 'Maryrose Badura', 'Mavis Bhardwaj', 'Melony Engwer', 'Mike Blanchet', 'Myles Deanne', 'Nancie Rubalcaba', 'Narcisa Shanley', 'Norma Tingey', 'Rachael Ojima', 'Ray Spratling', 'Renee Brendeland', 'Rosalva Dosreis', 'Rosamond Shawe', 'Sade Streitnatter', 'Sang Bouy', 'Sang Snellgrove', 'Sarah Growden', 'Scottie Levenstein', 'Shaquana Sones', 'Sheri Wedding', 'Sibyl Froeschle', 'Sina Sauby', 'Steven Deras', 'Suellen Luaces', 'Suellen Tohonnie', 'Sung Filipi', 'Tammi Todman', 'Tawana Srivastava', 'Teofila Stample', 'Zulma Tishler']"
   ]
  },
  {
   "cell_type": "code",
   "execution_count": 4,
   "metadata": {},
   "outputs": [
    {
     "name": "stdout",
     "output_type": "stream",
     "text": [
      "94\n"
     ]
    }
   ],
   "source": [
    "def binary_search_1(collection,target):\n",
    "    first = 0\n",
    "    last = len(collection)-1\n",
    "\n",
    "    while first <= last:\n",
    "        midpoint = (first+last)//2\n",
    "\n",
    "        if collection[midpoint] == target:\n",
    "            return midpoint\n",
    "        elif collection[midpoint] < target:\n",
    "            first = midpoint + 1\n",
    "        else:\n",
    "            last = midpoint - 1\n",
    "    return None\n",
    "\n",
    "index = binary_search_1(search_names,'Suellen Tohonnie')\n",
    "\n",
    "print(index)"
   ]
  }
 ],
 "metadata": {
  "kernelspec": {
   "display_name": "Python 3",
   "language": "python",
   "name": "python3"
  },
  "language_info": {
   "codemirror_mode": {
    "name": "ipython",
    "version": 3
   },
   "file_extension": ".py",
   "mimetype": "text/x-python",
   "name": "python",
   "nbconvert_exporter": "python",
   "pygments_lexer": "ipython3",
   "version": "3.9.0"
  },
  "orig_nbformat": 4
 },
 "nbformat": 4,
 "nbformat_minor": 2
}
